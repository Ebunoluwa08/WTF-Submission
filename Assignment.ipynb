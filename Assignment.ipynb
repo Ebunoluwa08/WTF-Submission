{
 "cells": [
  {
   "cell_type": "markdown",
   "id": "cc77ff9a",
   "metadata": {},
   "source": [
    "## 20 inbuilt method in Pandas"
   ]
  },
  {
   "cell_type": "code",
   "execution_count": 37,
   "id": "d2b1450a",
   "metadata": {},
   "outputs": [],
   "source": [
    "import pandas as pd"
   ]
  },
  {
   "cell_type": "code",
   "execution_count": 38,
   "id": "db37534e",
   "metadata": {
    "scrolled": true
   },
   "outputs": [],
   "source": [
    "fileName = 'housing.csv'\n"
   ]
  },
  {
   "cell_type": "code",
   "execution_count": 39,
   "id": "9c44dddc",
   "metadata": {},
   "outputs": [],
   "source": [
    "filePath = 'C:\\housing.csv'\n"
   ]
  },
  {
   "cell_type": "code",
   "execution_count": 40,
   "id": "27e3ae34",
   "metadata": {},
   "outputs": [],
   "source": [
    "fileDir = filePath + ' / ' + fileName"
   ]
  },
  {
   "cell_type": "code",
   "execution_count": 41,
   "id": "01a2c8b6",
   "metadata": {},
   "outputs": [
    {
     "data": {
      "text/plain": [
       "'C:\\\\housing.csv / housing.csv'"
      ]
     },
     "execution_count": 41,
     "metadata": {},
     "output_type": "execute_result"
    }
   ],
   "source": [
    "fileDir"
   ]
  },
  {
   "cell_type": "code",
   "execution_count": null,
   "id": "d5443334",
   "metadata": {},
   "outputs": [],
   "source": [
    "fileDir = filePath + ' / ' + fileName\n",
    "df = pd.read_csv(fileDir)\n"
   ]
  },
  {
   "cell_type": "code",
   "execution_count": null,
   "id": "22d40cbf",
   "metadata": {},
   "outputs": [],
   "source": [
    "#number 1\n",
    "#loading the data from a csv file. They are used to read a CSV or an excel file to a pandas DataFrame format. \n",
    "\n",
    "import pandas as pd\n",
    "\n",
    "df = pd.read_csv(filename\n",
    "\n",
    "print(df.to_string())\n"
   ]
  },
  {
   "cell_type": "code",
   "execution_count": null,
   "id": "dc335a8b",
   "metadata": {},
   "outputs": [],
   "source": [
    "#Number 2\n",
    "\n",
    " df.columns\n",
    "\n",
    "when you have a big dataset like that it can be hard to see all the columns. using .columns function, you can print out\n",
    "all the columns of the dataset:\n",
    "    df.columns"
   ]
  },
  {
   "cell_type": "code",
   "execution_count": null,
   "id": "bba0bef7",
   "metadata": {},
   "outputs": [],
   "source": [
    "#Number 3\n",
    "df.drop()\n",
    "\n",
    "You can drop some unnecessary columns using df.drop()\n",
    "\n",
    "df.drop()"
   ]
  },
  {
   "cell_type": "code",
   "execution_count": null,
   "id": "94ce86d8",
   "metadata": {},
   "outputs": [],
   "source": [
    "#Number 4\n",
    "\n",
    "len()\n",
    "\n",
    "Provides with the length of the DataFrame. \n",
    "len(df)"
   ]
  },
  {
   "cell_type": "code",
   "execution_count": null,
   "id": "1aadb02f",
   "metadata": {},
   "outputs": [],
   "source": [
    "#Number 5\n",
    "df.query()\n",
    "You can filter or query using a boolean expression"
   ]
  },
  {
   "cell_type": "code",
   "execution_count": null,
   "id": "669a5d86",
   "metadata": {},
   "outputs": [],
   "source": [
    "#Number 6\n",
    " df[‘’].dtypes\n",
    "This is used to know the data types of the variables before diving into the analysis, visualization, or predictive modeling. "
   ]
  },
  {
   "cell_type": "code",
   "execution_count": null,
   "id": "99363693",
   "metadata": {},
   "outputs": [],
   "source": [
    "#number 7\n",
    "10. df.insert()\n",
    "\n",
    "As the name of the function suggests, it inserts a column in the specified position.\n",
    "To demonstrate that I will first create an array of random numbers that have the length of our DataFrame:"
   ]
  },
  {
   "cell_type": "code",
   "execution_count": null,
   "id": "33f91423",
   "metadata": {},
   "outputs": [],
   "source": [
    "#Number 8\n",
    "11. df[‘’].cumsum()\n",
    "\n",
    "It provides you with the cumulative sum."
   ]
  },
  {
   "cell_type": "code",
   "execution_count": null,
   "id": "9083c09f",
   "metadata": {},
   "outputs": [],
   "source": [
    "#Number 9\n",
    "df.sample()\n",
    "\n",
    "When the size of the dataset is too big, you can take a representative sample from it to perform the analysis and predictive\n",
    "modeling."
   ]
  },
  {
   "cell_type": "code",
   "execution_count": null,
   "id": "9b41e2c0",
   "metadata": {},
   "outputs": [],
   "source": [
    "#Number 10\n",
    "df[‘’].where()\n",
    "\n",
    "This function helps you query a dataset based on a boolean condition. "
   ]
  },
  {
   "cell_type": "code",
   "execution_count": null,
   "id": "afc5f19d",
   "metadata": {},
   "outputs": [],
   "source": [
    "#Number 11\n",
    "df[‘’].unique()\n",
    "\n",
    "This is very useful where we have categorical variables. It is used to find out the unique values of a categorical column"
   ]
  },
  {
   "cell_type": "code",
   "execution_count": null,
   "id": "d4927ad8",
   "metadata": {},
   "outputs": [],
   "source": [
    "#Number 12\n",
    " df[‘’].nunique()\n",
    "\n",
    "This function lets you know how many unique values do you have in a column. "
   ]
  },
  {
   "cell_type": "code",
   "execution_count": null,
   "id": "a0dde2c3",
   "metadata": {},
   "outputs": [],
   "source": [
    "#Number 13\n",
    " df[‘’].rank()\n",
    "\n",
    "This function provides you with the rank based on a certain column. "
   ]
  },
  {
   "cell_type": "code",
   "execution_count": null,
   "id": "0632ed1a",
   "metadata": {},
   "outputs": [],
   "source": [
    "#number 14\n",
    "df.replace()\n",
    "\n",
    " It replaces the values of a column."
   ]
  },
  {
   "cell_type": "code",
   "execution_count": null,
   "id": "cdc83f3b",
   "metadata": {},
   "outputs": [],
   "source": [
    "#number 14\n",
    ".isin()\n",
    "\n",
    "I am going to make a subset of the dataset that will contain only a few nationalities of players using .isin() function"
   ]
  },
  {
   "cell_type": "code",
   "execution_count": null,
   "id": "a3a0d6be",
   "metadata": {},
   "outputs": [],
   "source": [
    "#Number 15\n",
    "df.rename()\n",
    "\n",
    "It is used to rename the column/s. "
   ]
  },
  {
   "cell_type": "code",
   "execution_count": null,
   "id": "848d78a4",
   "metadata": {},
   "outputs": [],
   "source": [
    "#number16\n",
    "df.groupby()\n",
    "\n",
    "This is the most popular function for data summarizing."
   ]
  },
  {
   "cell_type": "code",
   "execution_count": null,
   "id": "ca84f30f",
   "metadata": {},
   "outputs": [],
   "source": [
    "#number 17\n",
    ".pct_change()\n",
    "\n",
    "You can get the percent change from the previous value of a variable. "
   ]
  },
  {
   "cell_type": "code",
   "execution_count": null,
   "id": "e3930d64",
   "metadata": {},
   "outputs": [],
   "source": [
    "#number18\n",
    " df.count()\n",
    "\n",
    "It provides you the number of data in the DataFrame in the specified direction. When the direction is 0, it provides the number\n",
    "of data in the columns:"
   ]
  },
  {
   "cell_type": "code",
   "execution_count": null,
   "id": "0344da00",
   "metadata": {},
   "outputs": [],
   "source": [
    "#number 19\n",
    " pd.crosstab()\n",
    "\n",
    "It gives you a frequency table that is a cross-tabulation of two variables. "
   ]
  },
  {
   "cell_type": "code",
   "execution_count": null,
   "id": "87e76ea5",
   "metadata": {},
   "outputs": [],
   "source": [
    "#number 20\n",
    "df[‘’].describe()\n",
    "\n",
    "This is a great function that provides some basic statistical measures. "
   ]
  },
  {
   "cell_type": "markdown",
   "id": "e932e600",
   "metadata": {},
   "source": [
    "## 20 inbuilt methods in Numpy"
   ]
  },
  {
   "cell_type": "code",
   "execution_count": 5,
   "id": "654cb1d3",
   "metadata": {},
   "outputs": [],
   "source": [
    "import numpy as np"
   ]
  },
  {
   "cell_type": "code",
   "execution_count": 10,
   "id": "40adef1f",
   "metadata": {},
   "outputs": [
    {
     "data": {
      "text/plain": [
       "array([5, 6, 7, 8, 9])"
      ]
     },
     "execution_count": 10,
     "metadata": {},
     "output_type": "execute_result"
    }
   ],
   "source": [
    "#number 1\n",
    "#From Python List\n",
    "#To create a NumPy array from a given Python list, use the np.array() method:\n",
    "\n",
    "numbers = [5,6,7,8,9]\n",
    "\n",
    "np_array = np.array(numbers)\n",
    "np_array"
   ]
  },
  {
   "cell_type": "code",
   "execution_count": 11,
   "id": "bc8dcb61",
   "metadata": {},
   "outputs": [
    {
     "name": "stdout",
     "output_type": "stream",
     "text": [
      "The type of object: <class 'numpy.ndarray'>\n",
      "The Datatype of the NumPy array: int32\n"
     ]
    }
   ],
   "source": [
    "#number2\n",
    "#We can verify the type of the object created and the datatype using the type() method and dtype attribute respectively\n",
    "\n",
    "print(\"The type of object:\", type(np_array))\n",
    "print(\"The Datatype of the NumPy array:\", np_array.dtype)"
   ]
  },
  {
   "cell_type": "code",
   "execution_count": null,
   "id": "1f6e0480",
   "metadata": {},
   "outputs": [],
   "source": [
    "#number 3\n",
    "#Regularly Incrementing Numbers\n",
    "#To create an array with regularly incrementing values, use the np.arange() method.\n",
    "\n"
   ]
  },
  {
   "cell_type": "code",
   "execution_count": 12,
   "id": "514a7a61",
   "metadata": {},
   "outputs": [
    {
     "name": "stdout",
     "output_type": "stream",
     "text": [
      "samson\n"
     ]
    }
   ],
   "source": [
    "#number 4\n",
    "#indexing in numpy\n",
    "#You can access an array element by referring to its index number.\n",
    "\n",
    "import numpy as np\n",
    "\n",
    "arr = np.array(['john','tobi','samson','ajala'])\n",
    "\n",
    "print(arr[2]) "
   ]
  },
  {
   "cell_type": "code",
   "execution_count": 14,
   "id": "29edc0e2",
   "metadata": {},
   "outputs": [
    {
     "name": "stdout",
     "output_type": "stream",
     "text": [
      "float64\n"
     ]
    }
   ],
   "source": [
    "#number5\n",
    "#The NumPy array object has a property called dtype that returns the data type of the array:\n",
    "\n",
    "import numpy as np\n",
    "\n",
    "arr = np.array([3.5,4.6])\n",
    "\n",
    "print(arr.dtype)"
   ]
  },
  {
   "cell_type": "code",
   "execution_count": null,
   "id": "db9d1d39",
   "metadata": {},
   "outputs": [],
   "source": [
    "#number 6\n",
    "#.copy()\n",
    "# the copy is a new array\n"
   ]
  },
  {
   "cell_type": "code",
   "execution_count": 17,
   "id": "1d673ed4",
   "metadata": {},
   "outputs": [
    {
     "name": "stdout",
     "output_type": "stream",
     "text": [
      "(2, 4)\n"
     ]
    }
   ],
   "source": [
    "#number 7\n",
    "# shape\n",
    "#The shape of an array is the number of elements in each dimension.\n",
    "#print the shape of a 2-D array:\n",
    "import numpy as np\n",
    "\n",
    "arr = np.array([[1, 2, 3, 4], [5, 6, 7, 8]])\n",
    "\n",
    "print(arr.shape)"
   ]
  },
  {
   "cell_type": "code",
   "execution_count": 18,
   "id": "9a8c7691",
   "metadata": {},
   "outputs": [
    {
     "data": {
      "text/plain": [
       "array([ 1.        ,  1.64285714,  2.28571429,  2.92857143,  3.57142857,\n",
       "        4.21428571,  4.85714286,  5.5       ,  6.14285714,  6.78571429,\n",
       "        7.42857143,  8.07142857,  8.71428571,  9.35714286, 10.        ])"
      ]
     },
     "execution_count": 18,
     "metadata": {},
     "output_type": "execute_result"
    }
   ],
   "source": [
    "#number8\n",
    "#np.linspace() metho\n",
    "#If you want to create a NumPy array with a specific number of elements that are spaced equally in a given range of values, \n",
    "#use the np.linspace() method:\n",
    "\n",
    "np.linspace(start = 1, stop = 10, num = 15)\n",
    "    "
   ]
  },
  {
   "cell_type": "code",
   "execution_count": 20,
   "id": "bca7f65d",
   "metadata": {},
   "outputs": [
    {
     "data": {
      "text/plain": [
       "array([ 2.        ,  3.28134142,  5.38360077,  8.83271611, 14.49157863,\n",
       "       23.77590863, 39.00843693, 64.        ])"
      ]
     },
     "execution_count": 20,
     "metadata": {},
     "output_type": "execute_result"
    }
   ],
   "source": [
    "#number9\n",
    "#np.logspace() method\n",
    "# if you want to generate numbers that are equally apart in the logarithmic space, use the np.logspace() method:\n",
    "\n",
    "np.logspace(start = 1, stop = 6, num = 8, base = 2)\n",
    "\n",
    "\n"
   ]
  },
  {
   "cell_type": "code",
   "execution_count": 21,
   "id": "032d8602",
   "metadata": {},
   "outputs": [
    {
     "data": {
      "text/plain": [
       "array([[1., 0., 0., 0., 0.],\n",
       "       [0., 1., 0., 0., 0.],\n",
       "       [0., 0., 1., 0., 0.],\n",
       "       [0., 0., 0., 1., 0.],\n",
       "       [0., 0., 0., 0., 1.]])"
      ]
     },
     "execution_count": 21,
     "metadata": {},
     "output_type": "execute_result"
    }
   ],
   "source": [
    "#number 10\n",
    "#Identity Array\n",
    "#To create the identity NumPy Matrix, use the np.identity() method:\n",
    "\n",
    "np.identity(5)\n"
   ]
  },
  {
   "cell_type": "code",
   "execution_count": 23,
   "id": "dcea066d",
   "metadata": {},
   "outputs": [
    {
     "data": {
      "text/plain": [
       "array([[1., 0., 0., 0., 0.],\n",
       "       [0., 1., 0., 0., 0.],\n",
       "       [0., 0., 1., 0., 0.],\n",
       "       [0., 0., 0., 1., 0.]])"
      ]
     },
     "execution_count": 23,
     "metadata": {},
     "output_type": "execute_result"
    }
   ],
   "source": [
    "#number 11\n",
    "#np.eye() method.\n",
    "#To create a 2-dimensional NumPy Array (of any shape) with ones on the diagonal and zeros elsewhere, use the np.eye() method.\n",
    "\n",
    "np.eye(N = 4, M = 5)"
   ]
  },
  {
   "cell_type": "code",
   "execution_count": 25,
   "id": "0bf6e045",
   "metadata": {},
   "outputs": [
    {
     "data": {
      "text/plain": [
       "array([[1., 1., 1., 1., 1., 1.],\n",
       "       [1., 1., 1., 1., 1., 1.],\n",
       "       [1., 1., 1., 1., 1., 1.],\n",
       "       [1., 1., 1., 1., 1., 1.],\n",
       "       [1., 1., 1., 1., 1., 1.],\n",
       "       [1., 1., 1., 1., 1., 1.],\n",
       "       [1., 1., 1., 1., 1., 1.]])"
      ]
     },
     "execution_count": 25,
     "metadata": {},
     "output_type": "execute_result"
    }
   ],
   "source": [
    "#number 12\n",
    "#np.ones() method\n",
    "#To create a NumPy array filled with ones, use the np.ones() method as demonstrated below:\n",
    "\n",
    "np.ones((7, 6))"
   ]
  },
  {
   "cell_type": "code",
   "execution_count": 26,
   "id": "8887394b",
   "metadata": {},
   "outputs": [
    {
     "data": {
      "text/plain": [
       "array([[8, 8, 8, 8, 8, 8],\n",
       "       [8, 8, 8, 8, 8, 8]])"
      ]
     },
     "execution_count": 26,
     "metadata": {},
     "output_type": "execute_result"
    }
   ],
   "source": [
    "#number13\n",
    "#np.full() method.\n",
    "#To create a NumPy array filled with values other than zeros and ones, use the np.full() method.\n",
    "\n",
    "np.full((2, 6), 8)"
   ]
  },
  {
   "cell_type": "code",
   "execution_count": 27,
   "id": "949ea79c",
   "metadata": {},
   "outputs": [
    {
     "data": {
      "text/plain": [
       "array([[    0,     0,     0, 16368,     0,     0],\n",
       "       [    0, 16368,     0,     0,     0, 16368]], dtype=int16)"
      ]
     },
     "execution_count": 27,
     "metadata": {},
     "output_type": "execute_result"
    }
   ],
   "source": [
    "#number 14\n",
    "#np.empty() method:\n",
    "# if you want to create a NumPy array of a given shape and type without initializing entries, use the np.empty() method:\n",
    "\n",
    "np.empty((2, 6), np.int16)\n"
   ]
  },
  {
   "cell_type": "code",
   "execution_count": 29,
   "id": "f001cdae",
   "metadata": {},
   "outputs": [
    {
     "data": {
      "text/plain": [
       "array([[1, 1, 1],\n",
       "       [1, 1, 1]])"
      ]
     },
     "execution_count": 29,
     "metadata": {},
     "output_type": "execute_result"
    }
   ],
   "source": [
    "#number 15\n",
    "#np.ones_like() method:\n",
    "#If you want to create a NumPy array of ones with a shape similar to that of another NumPy array, use the np.ones_like() method:\n",
    "\n",
    "np_array = np.array([[1,2,3], [4,5,6]])\n",
    "\n",
    "np.ones_like(np_array)"
   ]
  },
  {
   "cell_type": "code",
   "execution_count": 30,
   "id": "5920d54e",
   "metadata": {},
   "outputs": [
    {
     "data": {
      "text/plain": [
       "array([[0],\n",
       "       [0]])"
      ]
     },
     "execution_count": 30,
     "metadata": {},
     "output_type": "execute_result"
    }
   ],
   "source": [
    "#number 16\n",
    "# np.zeros_like() method\n",
    "# if you want to create a NumPy array of zeros that takes the shape of another NumPy array, use the np.zeros_like() method\n",
    "\n",
    "np_array = np.array([[2], [6]])\n",
    "\n",
    "np.zeros_like(np_array)"
   ]
  },
  {
   "cell_type": "code",
   "execution_count": 31,
   "id": "18e7ae03",
   "metadata": {},
   "outputs": [
    {
     "data": {
      "text/plain": [
       "array([ 0.83275249,  0.11228137, -0.57331471,  0.98083129, -0.74041255,\n",
       "       -0.27714324])"
      ]
     },
     "execution_count": 31,
     "metadata": {},
     "output_type": "execute_result"
    }
   ],
   "source": [
    "#number 17\n",
    "#np.random.randn() method.\n",
    "#To generate a random NumPy array from a Normal Distribution with µ=0 and σ = 1 use the np.random.randn() method.\n",
    "\n",
    "np.random.randn(6)\n",
    "\n",
    "\n",
    "\n"
   ]
  },
  {
   "cell_type": "code",
   "execution_count": 33,
   "id": "66ec3637",
   "metadata": {},
   "outputs": [
    {
     "data": {
      "text/plain": [
       "array([10., 12.])"
      ]
     },
     "execution_count": 33,
     "metadata": {},
     "output_type": "execute_result"
    }
   ],
   "source": [
    "#number 18\n",
    "#np.fromstring() method:\n",
    "#To create a 1-dimensional NumPy array from text data in a string, use the np.fromstring() method:\n",
    "\n",
    "string = \"10 12\"\n",
    "np.fromstring(string, sep = \" \")\n",
    "\n"
   ]
  },
  {
   "cell_type": "code",
   "execution_count": 34,
   "id": "468aed15",
   "metadata": {},
   "outputs": [
    {
     "data": {
      "text/plain": [
       "array([[2, 0, 0, 0],\n",
       "       [0, 8, 0, 0],\n",
       "       [0, 0, 3, 0],\n",
       "       [0, 0, 0, 4]])"
      ]
     },
     "execution_count": 34,
     "metadata": {},
     "output_type": "execute_result"
    }
   ],
   "source": [
    "#number 19\n",
    "#p.diag() method:\n",
    "#You can create a square 2-dimensional NumPy array with specific values along the diagonal using the np.diag() method:\n",
    "\n",
    "diag = [2, 8, 3, 4]\n",
    "np.diag(diag)"
   ]
  },
  {
   "cell_type": "code",
   "execution_count": null,
   "id": "61c39d0d",
   "metadata": {},
   "outputs": [],
   "source": []
  },
  {
   "cell_type": "code",
   "execution_count": null,
   "id": "8dc47cab",
   "metadata": {},
   "outputs": [],
   "source": []
  },
  {
   "cell_type": "code",
   "execution_count": null,
   "id": "ebb8bd37",
   "metadata": {},
   "outputs": [],
   "source": []
  }
 ],
 "metadata": {
  "kernelspec": {
   "display_name": "Python 3 (ipykernel)",
   "language": "python",
   "name": "python3"
  },
  "language_info": {
   "codemirror_mode": {
    "name": "ipython",
    "version": 3
   },
   "file_extension": ".py",
   "mimetype": "text/x-python",
   "name": "python",
   "nbconvert_exporter": "python",
   "pygments_lexer": "ipython3",
   "version": "3.9.12"
  }
 },
 "nbformat": 4,
 "nbformat_minor": 5
}
