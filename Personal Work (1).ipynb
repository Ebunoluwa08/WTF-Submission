{
 "cells": [
  {
   "cell_type": "code",
   "execution_count": 29,
   "id": "909d6bdc",
   "metadata": {},
   "outputs": [
    {
     "name": "stdout",
     "output_type": "stream",
     "text": [
      "Honda\n",
      "Toyota\n",
      "Benz\n",
      "Nissan\n",
      "Ferarri\n"
     ]
    }
   ],
   "source": [
    "#Question 1\n",
    "#print all element in a list using for loop\n",
    "\n",
    "cars = ['Honda','Toyota','Benz', 'Nissan','Ferarri']\n",
    "for y in cars:\n",
    "    print(y)"
   ]
  },
  {
   "cell_type": "code",
   "execution_count": 32,
   "id": "fc3d4399",
   "metadata": {},
   "outputs": [
    {
     "name": "stdout",
     "output_type": "stream",
     "text": [
      "[2, 4, 6, 8, 10, 12, 14, 16, 18, 20, 22, 24, 26, 28, 30, 32, 34, 36, 38, 40, 42, 44, 46, 48, 50, 52, 54, 56, 58, 60, 62, 64, 66, 68, 70, 72, 74, 76, 78, 80, 82, 84, 86, 88, 90, 92, 94, 96, 98, 100]\n",
      "[1, 3, 5, 7, 9, 11, 13, 15, 17, 19, 21, 23, 25, 27, 29, 31, 33, 35, 37, 39, 41, 43, 45, 47, 49, 51, 53, 55, 57, 59, 61, 63, 65, 67, 69, 71, 73, 75, 77, 79, 81, 83, 85, 87, 89, 91, 93, 95, 97, 99]\n"
     ]
    }
   ],
   "source": [
    "#Question 2\n",
    "#Using range (1,101), make two list, one containing all even numbers and other containing all odd numbers.\n",
    "\n",
    "odd_numbers =[]\n",
    "even_numbers =[]\n",
    "for x in range(1,101):\n",
    "    if x%2 == 0:\n",
    "        odd_numbers.append(x)\n",
    "    else:\n",
    "        even_numbers.append(x)\n",
    "print(odd_numbers)\n",
    "print(even_numbers)"
   ]
  },
  {
   "cell_type": "code",
   "execution_count": null,
   "id": "321b9e9f",
   "metadata": {},
   "outputs": [],
   "source": [
    "#question 3\n",
    "#A company decided to give bonus of 5% to employee if his/her year of service is more than 5 years. Ask user for their \n",
    "salary and year of service and print the net bonus amount.\n",
    "\n",
    "benchmark = 5\n",
    "def incentive(salary, serviceYear):\n",
    "    if serviceYear > benchmark:\n",
    "        bonus = 0.05*salary\n",
    "        print (bonus)\n",
    "        return  bonus\n",
    "    else:\n",
    "        print('no bonus')\n",
    "    "
   ]
  },
  {
   "cell_type": "code",
   "execution_count": 8,
   "id": "8a804edb",
   "metadata": {},
   "outputs": [
    {
     "name": "stdout",
     "output_type": "stream",
     "text": [
      "How much do you earn1000\n",
      "How long have you served8\n",
      "50.0\n"
     ]
    },
    {
     "data": {
      "text/plain": [
       "50.0"
      ]
     },
     "execution_count": 8,
     "metadata": {},
     "output_type": "execute_result"
    }
   ],
   "source": [
    "salary = input('How much do you earn')\n",
    "yearsOfService = input('How long have you served')\n",
    "\n",
    "incentive(int(salary),int(yearsOfService))\n",
    "\n"
   ]
  },
  {
   "cell_type": "code",
   "execution_count": 36,
   "id": "f494b3ec",
   "metadata": {},
   "outputs": [
    {
     "name": "stdout",
     "output_type": "stream",
     "text": [
      "How old are you45\n",
      "How old are you16\n",
      "How old are you78\n",
      "youngest age is: 16\n",
      "oldest age is: 78\n"
     ]
    }
   ],
   "source": [
    "#Question 4\n",
    "age1 = (input('How old are you'))\n",
    "age2 = (input('How old are you'))\n",
    "age3 = (input('How old are you'))\n",
    "maxage = max(age1, age2, age3)\n",
    "miniage = min(age1, age2, age3)\n",
    "print('youngest age is:', miniage)\n",
    "print('oldest age is:', maxage)"
   ]
  },
  {
   "cell_type": "code",
   "execution_count": 24,
   "id": "12491d62",
   "metadata": {},
   "outputs": [],
   "source": [
    "#question 5\n",
    "def Grade(mark):\n",
    "    if mark < 25:\n",
    "        print('F')\n",
    "    elif mark >25 and mark <=45:\n",
    "        print('E')\n",
    "    elif mark >45 and mark <=50:\n",
    "        print('D')\n",
    "    elif mark >50 and mark <=60:\n",
    "        print('C')\n",
    "    elif mark >60 and mark <=80:\n",
    "            print('B')\n",
    "    else:\n",
    "        print('A')"
   ]
  },
  {
   "cell_type": "code",
   "execution_count": 25,
   "id": "dd2c56f0",
   "metadata": {},
   "outputs": [
    {
     "name": "stdout",
     "output_type": "stream",
     "text": [
      "what was your mark80\n",
      "B\n"
     ]
    }
   ],
   "source": [
    "mark = input('what was your mark')\n",
    "\n",
    "Grade(int(mark))"
   ]
  },
  {
   "cell_type": "code",
   "execution_count": 37,
   "id": "a0173821",
   "metadata": {
    "scrolled": true
   },
   "outputs": [
    {
     "name": "stdout",
     "output_type": "stream",
     "text": [
      "{'Honda': 'red', 'Toyota': 'blue', 'Benz': 'black', 'OAU': 'federal', 'OOU': 'state', 'BOWEN': 'private'}\n"
     ]
    }
   ],
   "source": [
    "#Question 6\n",
    "#write a python script to merge two python dictionaries\n",
    "\n",
    "cars = {'Honda' : 'red', 'Toyota' : 'blue', 'Benz' : 'black'}\n",
    "schools = {'OAU' : 'federal', 'OOU' : 'state', 'BOWEN' : 'private'}\n",
    "\n",
    "total = cars.copy()\n",
    "total.update(schools)\n",
    "\n",
    "print(total)\n"
   ]
  },
  {
   "cell_type": "code",
   "execution_count": 40,
   "id": "b1e3bd4f",
   "metadata": {},
   "outputs": [
    {
     "name": "stdout",
     "output_type": "stream",
     "text": [
      "{'America': 'Hollywood', 'India': 'Bollywood'}\n"
     ]
    }
   ],
   "source": [
    "#Question 7\n",
    "#write a python program to remove a key from a dictionary'\n",
    "\n",
    "industries= {'Nigeria' : 'Nollywood', 'America' : 'Hollywood', 'India' : 'Bollywood'}\n",
    "industries.pop('Nigeria')\n",
    "print(industries)"
   ]
  },
  {
   "cell_type": "code",
   "execution_count": 15,
   "id": "abb907a5",
   "metadata": {},
   "outputs": [
    {
     "name": "stdout",
     "output_type": "stream",
     "text": [
      "largest number is: 100\n"
     ]
    }
   ],
   "source": [
    "list1 = [10, 20, 30, 40, 50, 60, 100]\n",
    "print('largest number is:', max(list1))"
   ]
  },
  {
   "cell_type": "code",
   "execution_count": null,
   "id": "ce66d330",
   "metadata": {},
   "outputs": [],
   "source": []
  }
 ],
 "metadata": {
  "kernelspec": {
   "display_name": "Python 3 (ipykernel)",
   "language": "python",
   "name": "python3"
  },
  "language_info": {
   "codemirror_mode": {
    "name": "ipython",
    "version": 3
   },
   "file_extension": ".py",
   "mimetype": "text/x-python",
   "name": "python",
   "nbconvert_exporter": "python",
   "pygments_lexer": "ipython3",
   "version": "3.9.12"
  }
 },
 "nbformat": 4,
 "nbformat_minor": 5
}
